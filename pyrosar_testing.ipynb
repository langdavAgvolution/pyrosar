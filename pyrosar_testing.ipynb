{
 "cells": [
  {
   "cell_type": "code",
   "execution_count": null,
   "metadata": {},
   "outputs": [],
   "source": [
    "from pyroSAR import identify\n",
    "name = 'data/download/S1A_IW_GRDH_1SDV_20210206T052511_20210206T052536_036465_0447F4_09CA.zip'\n",
    "scene = identify(name)\n",
    "print(scene)"
   ]
  },
  {
   "cell_type": "code",
   "execution_count": null,
   "metadata": {},
   "outputs": [],
   "source": [
    "from pyroSAR.auxdata import dem_autoload\n",
    "from spatialist import Vector\n",
    "\n",
    "site = 'data/aoi/aoi_tmp/aoi_tmp.shp'\n",
    "vrt = 'data/mosaic.vrt'\n",
    "\n",
    "with Vector(site) as vec:\n",
    "    vrt = dem_autoload(geometries=[vec],\n",
    "                       demType='SRTM 1Sec HGT',\n",
    "                       vrt=vrt,\n",
    "                       buffer=0.1)\n"
   ]
  },
  {
   "cell_type": "code",
   "execution_count": null,
   "metadata": {},
   "outputs": [],
   "source": [
    "from pyroSAR.snap import geocode\n",
    "geocode(infile='data/download/S1A_IW_GRDH_1SDV_20210206T052511_20210206T052536_036465_0447F4_09CA.zip',\n",
    "        outdir='data/out', test=True)"
   ]
  },
  {
   "cell_type": "code",
   "execution_count": null,
   "metadata": {},
   "outputs": [],
   "source": [
    "from pyroSAR import Archive\n",
    "dbfile = 'data/scenes.db'\n",
    "with Archive(dbfile) as archive:\n",
    "    archive.insert(scene)\n"
   ]
  },
  {
   "cell_type": "code",
   "execution_count": null,
   "metadata": {},
   "outputs": [],
   "source": [
    "from spatialist import Vector\n",
    "archive = Archive('data/scenes.db')\n",
    "outdir = 'data/out'\n",
    "maxdate = '20220202'\n",
    "site_shp = 'data/aoi/aoi_tmp/aoi_tmp.shp'\n",
    "with Vector(site_shp) as site:\n",
    "    selection_proc = archive.select(vectorobject=site,\n",
    "                                    processdir=outdir,\n",
    "                                    maxdate=maxdate,\n",
    "                                    sensor=('S1A', 'S1B'),\n",
    "                                    product='GRD',\n",
    "                                    acquisition_mode='IW',\n",
    "                                    vv=1)\n",
    "archive.close()"
   ]
  },
  {
   "cell_type": "code",
   "execution_count": null,
   "metadata": {},
   "outputs": [],
   "source": [
    "# test groupsize, see what grousize is needed to get all steps into one group; currently it's 8 steps + read/write == groupsize of 8\n",
    "# geocode(infile='data/download/S1A_IW_GRDH_1SDV_20210206T052511_20210206T052536_036465_0447F4_09CA.zip',\n",
    "#         outdir='data/out',\n",
    "#         spacing=10,\n",
    "#         shapefile=site_shp,\n",
    "#         polarizations=['VV', 'VH'],\n",
    "#         scaling='dB',\n",
    "#         cleanup=True,\n",
    "#         tmpdir='data/tmp',\n",
    "#         groupsize=8,\n",
    "#         test=True)\n",
    "\n",
    "from pyroSAR.snap.auxil import groupbyWorkers\n",
    "groupbyWorkers('data/out/raw/S1A__IW___A_20210209T170054_Cal_NR_Orb_TF_Spk_TC_dB_proc.xml', n=8)"
   ]
  },
  {
   "cell_type": "code",
   "execution_count": null,
   "metadata": {},
   "outputs": [],
   "source": [
    "from pyroSAR.snap import geocode\n",
    "import os\n",
    "\n",
    "\n",
    "files = [os.path.join('data/download/', each) for each in os.listdir('data/download/') if each.endswith('.zip')]\n",
    "# satfiles = [os.path.join(root, name)\n",
    "#             for root, dirs, files in os.walk('../sen1ost/data/download/SAR/GRD/2021')\n",
    "#             for name in files\n",
    "#             if name.endswith(\"zip\")]\n",
    "# satfiles = satfiles[0:3]\n",
    "# site_shp = 'data/aoi/aoi_tmp/aoi_tmp.shp'\n",
    "site_shp = 'data/aoi/flotow_shape_tmp.geojson'\n",
    "\n",
    "for single_file in files:\n",
    "# for single_file in satfiles:\n",
    "    geocode(infile=single_file,\n",
    "        outdir='data/out/raw',\n",
    "        spacing=10,\n",
    "        shapefile=site_shp,\n",
    "        polarizations=['VV', 'VH'],\n",
    "        scaling='dB',\n",
    "        geocoding_type='Range-Doppler',\n",
    "        removeS1BorderNoise=False,\n",
    "        removeS1ThermalNoise=False, #not really necessary for SAR data\n",
    "        allow_RES_OSV=False,\n",
    "        demName='SRTM 1Sec HGT',\n",
    "        externalDEMFile=None,\n",
    "        terrainFlattening=True,\n",
    "        speckleFilter='Refined Lee',\n",
    "        refarea='gamma0', #['sigma0','gamma0']\n",
    "        test=False,\n",
    "        cleanup=True,\n",
    "        tmpdir='data/tmp',\n",
    "        groupsize=8)\n",
    "\n"
   ]
  },
  {
   "cell_type": "code",
   "execution_count": null,
   "metadata": {},
   "outputs": [],
   "source": [
    "import rasterio\n",
    "import geopandas as gpd\n",
    "from rasterio.mask import mask\n",
    "import os\n",
    "\n",
    "tif_files = [file for file in os.listdir('data/out/raw') if file.endswith(\".tif\")]\n",
    "# site_shp = 'data/aoi/flotow.shp'\n",
    "site_shp = 'data/aoi/flotow_shape_tmp.geojson'\n",
    "\n",
    "# Open the .tif file\n",
    "for file in tif_files:\n",
    "    with rasterio.open(os.path.join('data/out/raw', file)) as src:\n",
    "        # Open the .shp file using geopandas\n",
    "        shapefile = gpd.read_file(site_shp)\n",
    "\n",
    "        # Clip the .tif file using the .shp file geometry\n",
    "        clipped, transform = mask(src, shapefile.geometry, crop=True)\n",
    "        out_profile = src.profile.copy()\n",
    "        out_profile.update({'width': clipped.shape[2],'height': clipped.shape[1], 'transform': transform})\n",
    "\n",
    "        # Save the clipped .tif file\n",
    "        with rasterio.open(os.path.join('data/out/cut', file), 'w', **out_profile) as dst:\n",
    "            dst.write(clipped)\n"
   ]
  },
  {
   "cell_type": "code",
   "execution_count": 2,
   "metadata": {},
   "outputs": [],
   "source": [
    "#download sen1 images\n",
    "from sentinelsat import SentinelAPI, read_geojson, geojson_to_wkt\n",
    "import json\n",
    "\n",
    "username = json.load(open('login_data.json'))['username']\n",
    "pw = json.load(open('login_data.json'))['pw']\n",
    "site = 'data/aoi/flotow_shape_tmp.geojson'\n",
    "\n",
    "api = SentinelAPI(username, pw)"
   ]
  },
  {
   "cell_type": "code",
   "execution_count": 4,
   "metadata": {},
   "outputs": [
    {
     "data": {
      "text/html": [
       "<div>\n",
       "<style scoped>\n",
       "    .dataframe tbody tr th:only-of-type {\n",
       "        vertical-align: middle;\n",
       "    }\n",
       "\n",
       "    .dataframe tbody tr th {\n",
       "        vertical-align: top;\n",
       "    }\n",
       "\n",
       "    .dataframe thead th {\n",
       "        text-align: right;\n",
       "    }\n",
       "</style>\n",
       "<table border=\"1\" class=\"dataframe\">\n",
       "  <thead>\n",
       "    <tr style=\"text-align: right;\">\n",
       "      <th></th>\n",
       "      <th>title</th>\n",
       "      <th>link</th>\n",
       "      <th>link_alternative</th>\n",
       "      <th>link_icon</th>\n",
       "      <th>summary</th>\n",
       "      <th>ondemand</th>\n",
       "      <th>beginposition</th>\n",
       "      <th>endposition</th>\n",
       "      <th>ingestiondate</th>\n",
       "      <th>missiondatatakeid</th>\n",
       "      <th>...</th>\n",
       "      <th>platformname</th>\n",
       "      <th>platformidentifier</th>\n",
       "      <th>instrumentname</th>\n",
       "      <th>instrumentshortname</th>\n",
       "      <th>productclass</th>\n",
       "      <th>polarisationmode</th>\n",
       "      <th>acquisitiontype</th>\n",
       "      <th>gmlfootprint</th>\n",
       "      <th>footprint</th>\n",
       "      <th>uuid</th>\n",
       "    </tr>\n",
       "  </thead>\n",
       "  <tbody>\n",
       "    <tr>\n",
       "      <th>fc19c69e-e588-4994-b031-a2c52a4ff61f</th>\n",
       "      <td>S1A_IW_GRDH_1SDV_20230206T165255_20230206T1653...</td>\n",
       "      <td>https://apihub.copernicus.eu/apihub/odata/v1/P...</td>\n",
       "      <td>https://apihub.copernicus.eu/apihub/odata/v1/P...</td>\n",
       "      <td>https://apihub.copernicus.eu/apihub/odata/v1/P...</td>\n",
       "      <td>Date: 2023-02-06T16:52:55.553Z, Instrument: SA...</td>\n",
       "      <td>false</td>\n",
       "      <td>2023-02-06 16:52:55.553</td>\n",
       "      <td>2023-02-06 16:53:20.553</td>\n",
       "      <td>2023-02-06 17:44:22.628</td>\n",
       "      <td>370454</td>\n",
       "      <td>...</td>\n",
       "      <td>Sentinel-1</td>\n",
       "      <td>2014-016A</td>\n",
       "      <td>Synthetic Aperture Radar (C-band)</td>\n",
       "      <td>SAR-C SAR</td>\n",
       "      <td>S</td>\n",
       "      <td>VV VH</td>\n",
       "      <td>NOMINAL</td>\n",
       "      <td>&lt;gml:Polygon srsName=\"http://www.opengis.net/g...</td>\n",
       "      <td>MULTIPOLYGON (((11.66927 52.93222, 15.577946 5...</td>\n",
       "      <td>fc19c69e-e588-4994-b031-a2c52a4ff61f</td>\n",
       "    </tr>\n",
       "    <tr>\n",
       "      <th>5441eb56-0f6b-4f1f-ad01-f1a878e01fa3</th>\n",
       "      <td>S1A_IW_GRDH_1SDV_20230211T170105_20230211T1701...</td>\n",
       "      <td>https://apihub.copernicus.eu/apihub/odata/v1/P...</td>\n",
       "      <td>https://apihub.copernicus.eu/apihub/odata/v1/P...</td>\n",
       "      <td>https://apihub.copernicus.eu/apihub/odata/v1/P...</td>\n",
       "      <td>Date: 2023-02-11T17:01:05.313Z, Instrument: SA...</td>\n",
       "      <td>false</td>\n",
       "      <td>2023-02-11 17:01:05.313</td>\n",
       "      <td>2023-02-11 17:01:30.310</td>\n",
       "      <td>2023-02-11 17:48:22.390</td>\n",
       "      <td>371079</td>\n",
       "      <td>...</td>\n",
       "      <td>Sentinel-1</td>\n",
       "      <td>2014-016A</td>\n",
       "      <td>Synthetic Aperture Radar (C-band)</td>\n",
       "      <td>SAR-C SAR</td>\n",
       "      <td>S</td>\n",
       "      <td>VV VH</td>\n",
       "      <td>NOMINAL</td>\n",
       "      <td>&lt;gml:Polygon srsName=\"http://www.opengis.net/g...</td>\n",
       "      <td>MULTIPOLYGON (((9.695061 52.698689, 13.574968 ...</td>\n",
       "      <td>5441eb56-0f6b-4f1f-ad01-f1a878e01fa3</td>\n",
       "    </tr>\n",
       "    <tr>\n",
       "      <th>2b68365a-fc83-4fa1-a76b-ace5f6f7be8a</th>\n",
       "      <td>S1A_IW_GRDH_1SDV_20230218T165255_20230218T1653...</td>\n",
       "      <td>https://apihub.copernicus.eu/apihub/odata/v1/P...</td>\n",
       "      <td>https://apihub.copernicus.eu/apihub/odata/v1/P...</td>\n",
       "      <td>https://apihub.copernicus.eu/apihub/odata/v1/P...</td>\n",
       "      <td>Date: 2023-02-18T16:52:55.246Z, Instrument: SA...</td>\n",
       "      <td>false</td>\n",
       "      <td>2023-02-18 16:52:55.246</td>\n",
       "      <td>2023-02-18 16:53:20.246</td>\n",
       "      <td>2023-02-18 17:40:36.641</td>\n",
       "      <td>371969</td>\n",
       "      <td>...</td>\n",
       "      <td>Sentinel-1</td>\n",
       "      <td>2014-016A</td>\n",
       "      <td>Synthetic Aperture Radar (C-band)</td>\n",
       "      <td>SAR-C SAR</td>\n",
       "      <td>S</td>\n",
       "      <td>VV VH</td>\n",
       "      <td>NOMINAL</td>\n",
       "      <td>&lt;gml:Polygon srsName=\"http://www.opengis.net/g...</td>\n",
       "      <td>MULTIPOLYGON (((11.669201 52.932167, 15.577866...</td>\n",
       "      <td>2b68365a-fc83-4fa1-a76b-ace5f6f7be8a</td>\n",
       "    </tr>\n",
       "    <tr>\n",
       "      <th>8bb0632e-65f9-4e1e-8d84-9bd1e240f309</th>\n",
       "      <td>S1A_IW_GRDH_1SDV_20230223T170104_20230223T1701...</td>\n",
       "      <td>https://apihub.copernicus.eu/apihub/odata/v1/P...</td>\n",
       "      <td>https://apihub.copernicus.eu/apihub/odata/v1/P...</td>\n",
       "      <td>https://apihub.copernicus.eu/apihub/odata/v1/P...</td>\n",
       "      <td>Date: 2023-02-23T17:01:04.748Z, Instrument: SA...</td>\n",
       "      <td>false</td>\n",
       "      <td>2023-02-23 17:01:04.748</td>\n",
       "      <td>2023-02-23 17:01:29.747</td>\n",
       "      <td>2023-02-23 17:49:34.004</td>\n",
       "      <td>372603</td>\n",
       "      <td>...</td>\n",
       "      <td>Sentinel-1</td>\n",
       "      <td>2014-016A</td>\n",
       "      <td>Synthetic Aperture Radar (C-band)</td>\n",
       "      <td>SAR-C SAR</td>\n",
       "      <td>S</td>\n",
       "      <td>VV VH</td>\n",
       "      <td>NOMINAL</td>\n",
       "      <td>&lt;gml:Polygon srsName=\"http://www.opengis.net/g...</td>\n",
       "      <td>MULTIPOLYGON (((9.697369 52.698727, 13.577291 ...</td>\n",
       "      <td>8bb0632e-65f9-4e1e-8d84-9bd1e240f309</td>\n",
       "    </tr>\n",
       "  </tbody>\n",
       "</table>\n",
       "<p>4 rows × 35 columns</p>\n",
       "</div>"
      ],
      "text/plain": [
       "                                                                                  title  \\\n",
       "fc19c69e-e588-4994-b031-a2c52a4ff61f  S1A_IW_GRDH_1SDV_20230206T165255_20230206T1653...   \n",
       "5441eb56-0f6b-4f1f-ad01-f1a878e01fa3  S1A_IW_GRDH_1SDV_20230211T170105_20230211T1701...   \n",
       "2b68365a-fc83-4fa1-a76b-ace5f6f7be8a  S1A_IW_GRDH_1SDV_20230218T165255_20230218T1653...   \n",
       "8bb0632e-65f9-4e1e-8d84-9bd1e240f309  S1A_IW_GRDH_1SDV_20230223T170104_20230223T1701...   \n",
       "\n",
       "                                                                                   link  \\\n",
       "fc19c69e-e588-4994-b031-a2c52a4ff61f  https://apihub.copernicus.eu/apihub/odata/v1/P...   \n",
       "5441eb56-0f6b-4f1f-ad01-f1a878e01fa3  https://apihub.copernicus.eu/apihub/odata/v1/P...   \n",
       "2b68365a-fc83-4fa1-a76b-ace5f6f7be8a  https://apihub.copernicus.eu/apihub/odata/v1/P...   \n",
       "8bb0632e-65f9-4e1e-8d84-9bd1e240f309  https://apihub.copernicus.eu/apihub/odata/v1/P...   \n",
       "\n",
       "                                                                       link_alternative  \\\n",
       "fc19c69e-e588-4994-b031-a2c52a4ff61f  https://apihub.copernicus.eu/apihub/odata/v1/P...   \n",
       "5441eb56-0f6b-4f1f-ad01-f1a878e01fa3  https://apihub.copernicus.eu/apihub/odata/v1/P...   \n",
       "2b68365a-fc83-4fa1-a76b-ace5f6f7be8a  https://apihub.copernicus.eu/apihub/odata/v1/P...   \n",
       "8bb0632e-65f9-4e1e-8d84-9bd1e240f309  https://apihub.copernicus.eu/apihub/odata/v1/P...   \n",
       "\n",
       "                                                                              link_icon  \\\n",
       "fc19c69e-e588-4994-b031-a2c52a4ff61f  https://apihub.copernicus.eu/apihub/odata/v1/P...   \n",
       "5441eb56-0f6b-4f1f-ad01-f1a878e01fa3  https://apihub.copernicus.eu/apihub/odata/v1/P...   \n",
       "2b68365a-fc83-4fa1-a76b-ace5f6f7be8a  https://apihub.copernicus.eu/apihub/odata/v1/P...   \n",
       "8bb0632e-65f9-4e1e-8d84-9bd1e240f309  https://apihub.copernicus.eu/apihub/odata/v1/P...   \n",
       "\n",
       "                                                                                summary  \\\n",
       "fc19c69e-e588-4994-b031-a2c52a4ff61f  Date: 2023-02-06T16:52:55.553Z, Instrument: SA...   \n",
       "5441eb56-0f6b-4f1f-ad01-f1a878e01fa3  Date: 2023-02-11T17:01:05.313Z, Instrument: SA...   \n",
       "2b68365a-fc83-4fa1-a76b-ace5f6f7be8a  Date: 2023-02-18T16:52:55.246Z, Instrument: SA...   \n",
       "8bb0632e-65f9-4e1e-8d84-9bd1e240f309  Date: 2023-02-23T17:01:04.748Z, Instrument: SA...   \n",
       "\n",
       "                                     ondemand           beginposition  \\\n",
       "fc19c69e-e588-4994-b031-a2c52a4ff61f    false 2023-02-06 16:52:55.553   \n",
       "5441eb56-0f6b-4f1f-ad01-f1a878e01fa3    false 2023-02-11 17:01:05.313   \n",
       "2b68365a-fc83-4fa1-a76b-ace5f6f7be8a    false 2023-02-18 16:52:55.246   \n",
       "8bb0632e-65f9-4e1e-8d84-9bd1e240f309    false 2023-02-23 17:01:04.748   \n",
       "\n",
       "                                                 endposition  \\\n",
       "fc19c69e-e588-4994-b031-a2c52a4ff61f 2023-02-06 16:53:20.553   \n",
       "5441eb56-0f6b-4f1f-ad01-f1a878e01fa3 2023-02-11 17:01:30.310   \n",
       "2b68365a-fc83-4fa1-a76b-ace5f6f7be8a 2023-02-18 16:53:20.246   \n",
       "8bb0632e-65f9-4e1e-8d84-9bd1e240f309 2023-02-23 17:01:29.747   \n",
       "\n",
       "                                               ingestiondate  \\\n",
       "fc19c69e-e588-4994-b031-a2c52a4ff61f 2023-02-06 17:44:22.628   \n",
       "5441eb56-0f6b-4f1f-ad01-f1a878e01fa3 2023-02-11 17:48:22.390   \n",
       "2b68365a-fc83-4fa1-a76b-ace5f6f7be8a 2023-02-18 17:40:36.641   \n",
       "8bb0632e-65f9-4e1e-8d84-9bd1e240f309 2023-02-23 17:49:34.004   \n",
       "\n",
       "                                      missiondatatakeid  ...  platformname  \\\n",
       "fc19c69e-e588-4994-b031-a2c52a4ff61f             370454  ...    Sentinel-1   \n",
       "5441eb56-0f6b-4f1f-ad01-f1a878e01fa3             371079  ...    Sentinel-1   \n",
       "2b68365a-fc83-4fa1-a76b-ace5f6f7be8a             371969  ...    Sentinel-1   \n",
       "8bb0632e-65f9-4e1e-8d84-9bd1e240f309             372603  ...    Sentinel-1   \n",
       "\n",
       "                                      platformidentifier  \\\n",
       "fc19c69e-e588-4994-b031-a2c52a4ff61f           2014-016A   \n",
       "5441eb56-0f6b-4f1f-ad01-f1a878e01fa3           2014-016A   \n",
       "2b68365a-fc83-4fa1-a76b-ace5f6f7be8a           2014-016A   \n",
       "8bb0632e-65f9-4e1e-8d84-9bd1e240f309           2014-016A   \n",
       "\n",
       "                                                         instrumentname  \\\n",
       "fc19c69e-e588-4994-b031-a2c52a4ff61f  Synthetic Aperture Radar (C-band)   \n",
       "5441eb56-0f6b-4f1f-ad01-f1a878e01fa3  Synthetic Aperture Radar (C-band)   \n",
       "2b68365a-fc83-4fa1-a76b-ace5f6f7be8a  Synthetic Aperture Radar (C-band)   \n",
       "8bb0632e-65f9-4e1e-8d84-9bd1e240f309  Synthetic Aperture Radar (C-band)   \n",
       "\n",
       "                                      instrumentshortname  productclass  \\\n",
       "fc19c69e-e588-4994-b031-a2c52a4ff61f            SAR-C SAR             S   \n",
       "5441eb56-0f6b-4f1f-ad01-f1a878e01fa3            SAR-C SAR             S   \n",
       "2b68365a-fc83-4fa1-a76b-ace5f6f7be8a            SAR-C SAR             S   \n",
       "8bb0632e-65f9-4e1e-8d84-9bd1e240f309            SAR-C SAR             S   \n",
       "\n",
       "                                     polarisationmode acquisitiontype  \\\n",
       "fc19c69e-e588-4994-b031-a2c52a4ff61f            VV VH         NOMINAL   \n",
       "5441eb56-0f6b-4f1f-ad01-f1a878e01fa3            VV VH         NOMINAL   \n",
       "2b68365a-fc83-4fa1-a76b-ace5f6f7be8a            VV VH         NOMINAL   \n",
       "8bb0632e-65f9-4e1e-8d84-9bd1e240f309            VV VH         NOMINAL   \n",
       "\n",
       "                                                                           gmlfootprint  \\\n",
       "fc19c69e-e588-4994-b031-a2c52a4ff61f  <gml:Polygon srsName=\"http://www.opengis.net/g...   \n",
       "5441eb56-0f6b-4f1f-ad01-f1a878e01fa3  <gml:Polygon srsName=\"http://www.opengis.net/g...   \n",
       "2b68365a-fc83-4fa1-a76b-ace5f6f7be8a  <gml:Polygon srsName=\"http://www.opengis.net/g...   \n",
       "8bb0632e-65f9-4e1e-8d84-9bd1e240f309  <gml:Polygon srsName=\"http://www.opengis.net/g...   \n",
       "\n",
       "                                                                              footprint  \\\n",
       "fc19c69e-e588-4994-b031-a2c52a4ff61f  MULTIPOLYGON (((11.66927 52.93222, 15.577946 5...   \n",
       "5441eb56-0f6b-4f1f-ad01-f1a878e01fa3  MULTIPOLYGON (((9.695061 52.698689, 13.574968 ...   \n",
       "2b68365a-fc83-4fa1-a76b-ace5f6f7be8a  MULTIPOLYGON (((11.669201 52.932167, 15.577866...   \n",
       "8bb0632e-65f9-4e1e-8d84-9bd1e240f309  MULTIPOLYGON (((9.697369 52.698727, 13.577291 ...   \n",
       "\n",
       "                                                                      uuid  \n",
       "fc19c69e-e588-4994-b031-a2c52a4ff61f  fc19c69e-e588-4994-b031-a2c52a4ff61f  \n",
       "5441eb56-0f6b-4f1f-ad01-f1a878e01fa3  5441eb56-0f6b-4f1f-ad01-f1a878e01fa3  \n",
       "2b68365a-fc83-4fa1-a76b-ace5f6f7be8a  2b68365a-fc83-4fa1-a76b-ace5f6f7be8a  \n",
       "8bb0632e-65f9-4e1e-8d84-9bd1e240f309  8bb0632e-65f9-4e1e-8d84-9bd1e240f309  \n",
       "\n",
       "[4 rows x 35 columns]"
      ]
     },
     "execution_count": 4,
     "metadata": {},
     "output_type": "execute_result"
    }
   ],
   "source": [
    "footprint = geojson_to_wkt(read_geojson(site))\n",
    "products = api.query(\n",
    "    footprint,\n",
    "    producttype=\"GRD\",\n",
    "    date=(\"20230201\", \"20230228\"),\n",
    "    platformname=\"Sentinel-1\",\n",
    "    orbitdirection=\"Ascending\",\n",
    "    sensoroperationalmode=\"IW\",\n",
    ")\n",
    "\n",
    "products_df = api.to_dataframe(products)\n",
    "products_df = products_df.sort_values('ingestiondate')\n",
    "products_df"
   ]
  },
  {
   "cell_type": "code",
   "execution_count": 3,
   "metadata": {},
   "outputs": [
    {
     "data": {
      "application/vnd.jupyter.widget-view+json": {
       "model_id": "63992763c6d14f418b01d8786e8a0cb7",
       "version_major": 2,
       "version_minor": 0
      },
      "text/plain": [
       "Fetching archival status:  78%|#######7  | 7/9 [00:02<00:00,  3.18product/s]"
      ]
     },
     "metadata": {},
     "output_type": "display_data"
    },
    {
     "data": {
      "application/vnd.jupyter.widget-view+json": {
       "model_id": "cbd9128d69f5422aaf0dd511fd4592e8",
       "version_major": 2,
       "version_minor": 0
      },
      "text/plain": [
       "Downloading products:   0%|          | 0/9 [00:00<?, ?product/s]"
      ]
     },
     "metadata": {},
     "output_type": "display_data"
    },
    {
     "data": {
      "application/vnd.jupyter.widget-view+json": {
       "model_id": "32c9071fd4a44fd2b0acd99d622f5ee3",
       "version_major": 2,
       "version_minor": 0
      },
      "text/plain": [
       "Downloading S1A_IW_GRDH_1SDV_20230227T051713_20230227T051738_047417_05B13B_C889.zip:   0%|          | 0.00/962…"
      ]
     },
     "metadata": {},
     "output_type": "display_data"
    },
    {
     "data": {
      "application/vnd.jupyter.widget-view+json": {
       "model_id": "85b4db97cf5e40529167099754dc7b36",
       "version_major": 2,
       "version_minor": 0
      },
      "text/plain": [
       "Downloading S1A_IW_GRDH_1SDV_20230220T052522_20230220T052547_047315_05ADC6_CCC9.zip:   0%|          | 0.00/996…"
      ]
     },
     "metadata": {},
     "output_type": "display_data"
    },
    {
     "data": {
      "application/vnd.jupyter.widget-view+json": {
       "model_id": "d4945af80d724495bd7dff243b8c4120",
       "version_major": 2,
       "version_minor": 0
      },
      "text/plain": [
       "Downloading S1A_IW_GRDH_1SDV_20230215T051713_20230215T051738_047242_05AB3E_D586.zip:   0%|          | 0.00/957…"
      ]
     },
     "metadata": {},
     "output_type": "display_data"
    },
    {
     "data": {
      "application/vnd.jupyter.widget-view+json": {
       "model_id": "c166c3c4af174523ad16d9ec83b2b1d1",
       "version_major": 2,
       "version_minor": 0
      },
      "text/plain": [
       "Downloading S1A_IW_GRDH_1SDV_20230208T052522_20230208T052547_047140_05A7DD_7401.zip:   0%|          | 0.00/928…"
      ]
     },
     "metadata": {},
     "output_type": "display_data"
    },
    {
     "data": {
      "application/vnd.jupyter.widget-view+json": {
       "model_id": "59ddc683c9ba49d3a6249faadc6fc40f",
       "version_major": 2,
       "version_minor": 0
      },
      "text/plain": [
       "MD5 checksumming:   0%|          | 0.00/957M [00:00<?, ?B/s]"
      ]
     },
     "metadata": {},
     "output_type": "display_data"
    },
    {
     "data": {
      "application/vnd.jupyter.widget-view+json": {
       "model_id": "c931cfebbcb84b62a0853c0af1861ee7",
       "version_major": 2,
       "version_minor": 0
      },
      "text/plain": [
       "Downloading S1A_IW_GRDH_1SDV_20230203T051714_20230203T051739_047067_05A563_428A.zip:   0%|          | 0.00/994…"
      ]
     },
     "metadata": {},
     "output_type": "display_data"
    }
   ],
   "source": [
    "api.download_all(products_df.index, directory_path = 'data/download')"
   ]
  },
  {
   "cell_type": "code",
   "execution_count": null,
   "metadata": {},
   "outputs": [],
   "source": [
    "test = products_df.head(1)\n",
    "api.download_all(test.index, directory_path = 'data/download')"
   ]
  },
  {
   "cell_type": "code",
   "execution_count": null,
   "metadata": {},
   "outputs": [],
   "source": []
  }
 ],
 "metadata": {
  "kernelspec": {
   "display_name": ".venv",
   "language": "python",
   "name": "python3"
  },
  "language_info": {
   "codemirror_mode": {
    "name": "ipython",
    "version": 3
   },
   "file_extension": ".py",
   "mimetype": "text/x-python",
   "name": "python",
   "nbconvert_exporter": "python",
   "pygments_lexer": "ipython3",
   "version": "3.8.10"
  },
  "orig_nbformat": 4,
  "vscode": {
   "interpreter": {
    "hash": "7dc5b49b89d06391b94bab2d3bdcb3309e09f56610d70066d734e3b5f3df41fc"
   }
  }
 },
 "nbformat": 4,
 "nbformat_minor": 2
}
