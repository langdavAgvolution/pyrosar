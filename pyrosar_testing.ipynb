{
 "cells": [
  {
   "cell_type": "code",
   "execution_count": 1,
   "metadata": {},
   "outputs": [
    {
     "name": "stdout",
     "output_type": "stream",
     "text": [
      "pyroSAR ID object of type SAFE\n",
      "acquisition_mode: IW\n",
      "cycleNumber: 222\n",
      "frameNumber: 280564\n",
      "lines: 16649\n",
      "orbit: D\n",
      "orbitNumber_abs: 36465\n",
      "orbitNumber_rel: 168\n",
      "polarizations: ['VV', 'VH']\n",
      "product: GRD\n",
      "projection: +proj=longlat +datum=WGS84 +no_defs\n",
      "samples: 25889\n",
      "sensor: S1A\n",
      "spacing: (10.0, 10.0)\n",
      "start: 20210206T052511\n",
      "stop: 20210206T052536\n"
     ]
    }
   ],
   "source": [
    "from pyroSAR import identify\n",
    "name = 'data/download/S1A_IW_GRDH_1SDV_20210206T052511_20210206T052536_036465_0447F4_09CA.zip'\n",
    "scene = identify(name)\n",
    "print(scene)"
   ]
  },
  {
   "cell_type": "code",
   "execution_count": 1,
   "metadata": {},
   "outputs": [],
   "source": [
    "from pyroSAR.auxdata import dem_autoload\n",
    "from spatialist import Vector\n",
    "\n",
    "site = 'data/aoi/aoi_tmp/aoi_tmp.shp'\n",
    "vrt = 'data/mosaic.vrt'\n",
    "\n",
    "with Vector(site) as vec:\n",
    "    vrt = dem_autoload(geometries=[vec],\n",
    "                       demType='SRTM 1Sec HGT',\n",
    "                       vrt=vrt,\n",
    "                       buffer=0.1)\n"
   ]
  },
  {
   "cell_type": "code",
   "execution_count": 2,
   "metadata": {},
   "outputs": [],
   "source": [
    "from pyroSAR.snap import geocode\n",
    "geocode(infile='data/download/S1A_IW_GRDH_1SDV_20210206T052511_20210206T052536_036465_0447F4_09CA.zip',\n",
    "        outdir='data/out', test=True)"
   ]
  },
  {
   "cell_type": "code",
   "execution_count": 11,
   "metadata": {},
   "outputs": [
    {
     "ename": "ObjectNotExecutableError",
     "evalue": "Not an executable object: 'SELECT spatialite_version();'",
     "output_type": "error",
     "traceback": [
      "\u001b[0;31m---------------------------------------------------------------------------\u001b[0m",
      "\u001b[0;31mAttributeError\u001b[0m                            Traceback (most recent call last)",
      "File \u001b[0;32m~/Documents/Python/pyrosar/.venv/lib/python3.8/site-packages/sqlalchemy/engine/base.py:1410\u001b[0m, in \u001b[0;36mConnection.execute\u001b[0;34m(self, statement, parameters, execution_options)\u001b[0m\n\u001b[1;32m   1409\u001b[0m \u001b[39mtry\u001b[39;00m:\n\u001b[0;32m-> 1410\u001b[0m     meth \u001b[39m=\u001b[39m statement\u001b[39m.\u001b[39;49m_execute_on_connection\n\u001b[1;32m   1411\u001b[0m \u001b[39mexcept\u001b[39;00m \u001b[39mAttributeError\u001b[39;00m \u001b[39mas\u001b[39;00m err:\n",
      "\u001b[0;31mAttributeError\u001b[0m: 'str' object has no attribute '_execute_on_connection'",
      "\nThe above exception was the direct cause of the following exception:\n",
      "\u001b[0;31mObjectNotExecutableError\u001b[0m                  Traceback (most recent call last)",
      "Cell \u001b[0;32mIn[11], line 3\u001b[0m\n\u001b[1;32m      1\u001b[0m \u001b[39mfrom\u001b[39;00m \u001b[39mpyroSAR\u001b[39;00m \u001b[39mimport\u001b[39;00m Archive\n\u001b[1;32m      2\u001b[0m dbfile \u001b[39m=\u001b[39m \u001b[39m'\u001b[39m\u001b[39mdata/scenes.db\u001b[39m\u001b[39m'\u001b[39m\n\u001b[0;32m----> 3\u001b[0m \u001b[39mwith\u001b[39;00m Archive(dbfile) \u001b[39mas\u001b[39;00m archive:\n\u001b[1;32m      4\u001b[0m     archive\u001b[39m.\u001b[39minsert(scene)\n",
      "File \u001b[0;32m~/Documents/Python/pyrosar/.venv/lib/python3.8/site-packages/pyroSAR/drivers.py:2318\u001b[0m, in \u001b[0;36mArchive.__init__\u001b[0;34m(self, dbfile, custom_fields, postgres, user, password, host, port, cleanup)\u001b[0m\n\u001b[1;32m   2316\u001b[0m \u001b[39mtry\u001b[39;00m:\n\u001b[1;32m   2317\u001b[0m     conn \u001b[39m=\u001b[39m \u001b[39mself\u001b[39m\u001b[39m.\u001b[39mengine\u001b[39m.\u001b[39mconnect()\n\u001b[0;32m-> 2318\u001b[0m     version \u001b[39m=\u001b[39m conn\u001b[39m.\u001b[39;49mexecute(\u001b[39m'\u001b[39;49m\u001b[39mSELECT spatialite_version();\u001b[39;49m\u001b[39m'\u001b[39;49m)\n\u001b[1;32m   2319\u001b[0m     conn\u001b[39m.\u001b[39mclose()\n\u001b[1;32m   2320\u001b[0m \u001b[39mexcept\u001b[39;00m exc\u001b[39m.\u001b[39mOperationalError:\n",
      "File \u001b[0;32m~/Documents/Python/pyrosar/.venv/lib/python3.8/site-packages/sqlalchemy/engine/base.py:1412\u001b[0m, in \u001b[0;36mConnection.execute\u001b[0;34m(self, statement, parameters, execution_options)\u001b[0m\n\u001b[1;32m   1410\u001b[0m     meth \u001b[39m=\u001b[39m statement\u001b[39m.\u001b[39m_execute_on_connection\n\u001b[1;32m   1411\u001b[0m \u001b[39mexcept\u001b[39;00m \u001b[39mAttributeError\u001b[39;00m \u001b[39mas\u001b[39;00m err:\n\u001b[0;32m-> 1412\u001b[0m     \u001b[39mraise\u001b[39;00m exc\u001b[39m.\u001b[39mObjectNotExecutableError(statement) \u001b[39mfrom\u001b[39;00m \u001b[39merr\u001b[39;00m\n\u001b[1;32m   1413\u001b[0m \u001b[39melse\u001b[39;00m:\n\u001b[1;32m   1414\u001b[0m     \u001b[39mreturn\u001b[39;00m meth(\n\u001b[1;32m   1415\u001b[0m         \u001b[39mself\u001b[39m,\n\u001b[1;32m   1416\u001b[0m         distilled_parameters,\n\u001b[1;32m   1417\u001b[0m         execution_options \u001b[39mor\u001b[39;00m NO_OPTIONS,\n\u001b[1;32m   1418\u001b[0m     )\n",
      "\u001b[0;31mObjectNotExecutableError\u001b[0m: Not an executable object: 'SELECT spatialite_version();'"
     ]
    }
   ],
   "source": [
    "from pyroSAR import Archive\n",
    "dbfile = 'data/scenes.db'\n",
    "with Archive(dbfile) as archive:\n",
    "    archive.insert(scene)\n"
   ]
  },
  {
   "cell_type": "code",
   "execution_count": null,
   "metadata": {},
   "outputs": [],
   "source": [
    "from spatialist import Vector\n",
    "archive = Archive('data/scenes.db')\n",
    "outdir = 'data/out'\n",
    "maxdate = '20220202'\n",
    "site_shp = 'data/aoi/aoi_tmp/aoi_tmp.shp'\n",
    "with Vector(site_shp) as site:\n",
    "    selection_proc = archive.select(vectorobject=site,\n",
    "                                    processdir=outdir,\n",
    "                                    maxdate=maxdate,\n",
    "                                    sensor=('S1A', 'S1B'),\n",
    "                                    product='GRD',\n",
    "                                    acquisition_mode='IW',\n",
    "                                    vv=1)\n",
    "archive.close()"
   ]
  },
  {
   "cell_type": "code",
   "execution_count": null,
   "metadata": {},
   "outputs": [],
   "source": [
    "# test groupsize, see what grousize is needed to get all steps into one group; currently it's 8 steps + read/write == groupsize of 8\n",
    "geocode(infile='data/download/S1A_IW_GRDH_1SDV_20210206T052511_20210206T052536_036465_0447F4_09CA.zip',\n",
    "        outdir='data/out',\n",
    "        spacing=10,\n",
    "        shapefile=site_shp,\n",
    "        polarizations=['VV', 'VH'],\n",
    "        scaling='dB',\n",
    "        cleanup=True,\n",
    "        tmpdir='data/tmp',\n",
    "        groupsize=8,\n",
    "        test=True)\n",
    "\n",
    "from pyroSAR.snap.auxil import groupbyWorkers\n",
    "groupbyWorkers('data/out/S1A__IW___D_20210206T052511_Cal_NR_Orb_TF_TC_dB_proc.xml', n=8)"
   ]
  },
  {
   "cell_type": "code",
   "execution_count": 82,
   "metadata": {},
   "outputs": [],
   "source": [
    "from pyroSAR.snap import geocode\n",
    "import os\n",
    "\n",
    "\n",
    "files = [os.path.join('data/download/', file) for each in os.listdir('data/download/') if each.endswith('.zip')]\n",
    "# satfiles = [os.path.join(root, name)\n",
    "#             for root, dirs, files in os.walk('../sen1ost/data/download/SAR/GRD/2021')\n",
    "#             for name in files\n",
    "#             if name.endswith(\"zip\")]\n",
    "# satfiles = satfiles[0:3]\n",
    "site_shp = 'data/aoi/aoi_tmp/aoi_tmp.shp'\n",
    "\n",
    "for single_file in files:\n",
    "# for single_file in satfiles:\n",
    "    geocode(infile=single_file,\n",
    "        outdir='data/out',\n",
    "        spacing=10,\n",
    "        shapefile=site_shp,\n",
    "        polarizations=['VV', 'VH'],\n",
    "        scaling='dB',\n",
    "        cleanup=True,\n",
    "        tmpdir='data/tmp',\n",
    "        groupsize=8)\n",
    "\n"
   ]
  },
  {
   "cell_type": "code",
   "execution_count": 6,
   "metadata": {},
   "outputs": [],
   "source": [
    "import fiona\n",
    "import rasterio\n",
    "from rasterio import mask\n",
    "\n",
    "# To mask the data\n",
    "with fiona.open('data/aoi/aoi_tmp/aoi_tmp.shp', \"r\") as shapefile:\n",
    "    shapes = [feature[\"geometry\"] for feature in shapefile]\n",
    "\n",
    "with rasterio.open(\"data/out/S1A__IW___D_20210206T052511_VH_gamma0-rtc_db.tif\") as src:\n",
    "    out_image, transformed = rasterio.mask.mask(src, shapes, crop=True, filled=True)\n",
    "    out_profile = src.profile.copy()\n",
    "\n",
    "out_profile.update({'width': out_image.shape[2],'height': out_image.shape[1], 'transform': transformed})\n",
    "with rasterio.open(\"data/out/tehran.tif\", 'w', **out_profile) as dst:\n",
    "    dst.write(out_image)"
   ]
  },
  {
   "cell_type": "code",
   "execution_count": null,
   "metadata": {},
   "outputs": [],
   "source": [
    "import fiona\n",
    "import rasterio\n",
    "from rasterio import mask\n",
    "\n",
    "# To mask the data\n",
    "with fiona.open('data/aoi/aoi_tmp/aoi_tmp.shp', \"r\") as shapefile:\n",
    "    shapes = [feature[\"geometry\"] for feature in shapefile]\n",
    "\n",
    "with rasterio.open(\"data/out/S1A__IW___D_20210206T052511_VH_gamma0-rtc_db.tif\") as src:\n",
    "    out_image, transformed = rasterio.mask.mask(src, shapes, crop=True, filled=True)\n",
    "    out_profile = src.profile.copy()\n",
    "\n",
    "out_profile.update({'width': out_image.shape[2],'height': out_image.shape[1], 'transform': transformed})\n",
    "with rasterio.open(\"data/out/tehran.tif\", 'w', **out_profile) as dst:\n",
    "    dst.write(out_image)"
   ]
  },
  {
   "cell_type": "code",
   "execution_count": null,
   "metadata": {},
   "outputs": [],
   "source": []
  }
 ],
 "metadata": {
  "kernelspec": {
   "display_name": ".venv",
   "language": "python",
   "name": "python3"
  },
  "language_info": {
   "codemirror_mode": {
    "name": "ipython",
    "version": 3
   },
   "file_extension": ".py",
   "mimetype": "text/x-python",
   "name": "python",
   "nbconvert_exporter": "python",
   "pygments_lexer": "ipython3",
   "version": "3.8.10"
  },
  "orig_nbformat": 4,
  "vscode": {
   "interpreter": {
    "hash": "7dc5b49b89d06391b94bab2d3bdcb3309e09f56610d70066d734e3b5f3df41fc"
   }
  }
 },
 "nbformat": 4,
 "nbformat_minor": 2
}
