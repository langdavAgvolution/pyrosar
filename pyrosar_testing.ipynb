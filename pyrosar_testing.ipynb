{
 "cells": [
  {
   "cell_type": "code",
   "execution_count": null,
   "metadata": {},
   "outputs": [],
   "source": [
    "from pyroSAR import identify\n",
    "name = 'data/download/S1A_IW_GRDH_1SDV_20210206T052511_20210206T052536_036465_0447F4_09CA.zip'\n",
    "scene = identify(name)\n",
    "print(scene)"
   ]
  },
  {
   "cell_type": "code",
   "execution_count": null,
   "metadata": {},
   "outputs": [],
   "source": [
    "from pyroSAR.auxdata import dem_autoload\n",
    "from spatialist import Vector\n",
    "\n",
    "site = 'data/aoi/aoi_tmp/aoi_tmp.shp'\n",
    "vrt = 'data/mosaic.vrt'\n",
    "\n",
    "with Vector(site) as vec:\n",
    "    vrt = dem_autoload(geometries=[vec],\n",
    "                       demType='SRTM 1Sec HGT',\n",
    "                       vrt=vrt,\n",
    "                       buffer=0.1)\n"
   ]
  },
  {
   "cell_type": "code",
   "execution_count": null,
   "metadata": {},
   "outputs": [],
   "source": [
    "from pyroSAR.snap import geocode\n",
    "geocode(infile='data/download/S1A_IW_GRDH_1SDV_20210206T052511_20210206T052536_036465_0447F4_09CA.zip',\n",
    "        outdir='data/out', test=True)"
   ]
  },
  {
   "cell_type": "code",
   "execution_count": null,
   "metadata": {},
   "outputs": [],
   "source": [
    "from pyroSAR import Archive\n",
    "dbfile = 'data/scenes.db'\n",
    "with Archive(dbfile) as archive:\n",
    "    archive.insert(scene)\n"
   ]
  },
  {
   "cell_type": "code",
   "execution_count": null,
   "metadata": {},
   "outputs": [],
   "source": [
    "from spatialist import Vector\n",
    "archive = Archive('data/scenes.db')\n",
    "outdir = 'data/out'\n",
    "maxdate = '20220202'\n",
    "site_shp = 'data/aoi/aoi_tmp/aoi_tmp.shp'\n",
    "with Vector(site_shp) as site:\n",
    "    selection_proc = archive.select(vectorobject=site,\n",
    "                                    processdir=outdir,\n",
    "                                    maxdate=maxdate,\n",
    "                                    sensor=('S1A', 'S1B'),\n",
    "                                    product='GRD',\n",
    "                                    acquisition_mode='IW',\n",
    "                                    vv=1)\n",
    "archive.close()"
   ]
  },
  {
   "cell_type": "code",
   "execution_count": null,
   "metadata": {},
   "outputs": [],
   "source": [
    "# test groupsize, see what grousize is needed to get all steps into one group; currently it's 8 steps + read/write == groupsize of 8\n",
    "geocode(infile='data/download/S1A_IW_GRDH_1SDV_20210206T052511_20210206T052536_036465_0447F4_09CA.zip',\n",
    "        outdir='data/out',\n",
    "        spacing=10,\n",
    "        shapefile=site_shp,\n",
    "        polarizations=['VV', 'VH'],\n",
    "        scaling='dB',\n",
    "        cleanup=True,\n",
    "        tmpdir='data/tmp',\n",
    "        groupsize=8,\n",
    "        test=True)\n",
    "\n",
    "from pyroSAR.snap.auxil import groupbyWorkers\n",
    "groupbyWorkers('data/out/S1A__IW___D_20210206T052511_Cal_NR_Orb_TF_TC_dB_proc.xml', n=8)"
   ]
  },
  {
   "cell_type": "code",
   "execution_count": 10,
   "metadata": {},
   "outputs": [],
   "source": [
    "from pyroSAR.snap import geocode\n",
    "import os\n",
    "\n",
    "\n",
    "files = [os.path.join('data/download/', each) for each in os.listdir('data/download/') if each.endswith('.zip')]\n",
    "# satfiles = [os.path.join(root, name)\n",
    "#             for root, dirs, files in os.walk('../sen1ost/data/download/SAR/GRD/2021')\n",
    "#             for name in files\n",
    "#             if name.endswith(\"zip\")]\n",
    "# satfiles = satfiles[0:3]\n",
    "site_shp = 'data/aoi/aoi_tmp/aoi_tmp.shp'\n",
    "\n",
    "for single_file in files:\n",
    "# for single_file in satfiles:\n",
    "    geocode(infile=single_file,\n",
    "        outdir='data/out/raw',\n",
    "        spacing=10,\n",
    "        shapefile=site_shp,\n",
    "        polarizations=['VV', 'VH'],\n",
    "        scaling='dB',\n",
    "        cleanup=True,\n",
    "        tmpdir='data/tmp',\n",
    "        groupsize=8)\n",
    "\n"
   ]
  },
  {
   "cell_type": "code",
   "execution_count": null,
   "metadata": {},
   "outputs": [],
   "source": [
    "import fiona\n",
    "import rasterio\n",
    "from rasterio import mask\n",
    "\n",
    "# To mask the data\n",
    "with fiona.open('data/aoi/aoi_tmp/aoi_tmp.shp', \"r\") as shapefile:\n",
    "    shapes = [feature[\"geometry\"] for feature in shapefile]\n",
    "\n",
    "with rasterio.open(\"data/out/S1A__IW___D_20210206T052511_VH_gamma0-rtc_db.tif\") as src:\n",
    "    out_image, transformed = rasterio.mask.mask(src, shapes, crop=True, filled=True)\n",
    "    out_profile = src.profile.copy()\n",
    "\n",
    "out_profile.update({'width': out_image.shape[2],'height': out_image.shape[1], 'transform': transformed})\n",
    "with rasterio.open(\"data/out/tehran.tif\", 'w', **out_profile) as dst:\n",
    "    dst.write(out_image)"
   ]
  },
  {
   "cell_type": "code",
   "execution_count": 26,
   "metadata": {},
   "outputs": [],
   "source": [
    "import rasterio\n",
    "import geopandas as gpd\n",
    "from rasterio.mask import mask\n",
    "import os\n",
    "\n",
    "tif_files = [file for file in os.listdir('data/out/raw') if file.endswith(\".tif\")]\n",
    "site_shp = 'data/aoi/flotow.shp'\n",
    "\n",
    "# Open the .tif file\n",
    "for file in tif_files:\n",
    "    with rasterio.open(os.path.join('data/out/raw', file)) as src:\n",
    "        # Open the .shp file using geopandas\n",
    "        shapefile = gpd.read_file(site_shp)\n",
    "\n",
    "        # Clip the .tif file using the .shp file geometry\n",
    "        clipped, transform = mask(src, shapefile.geometry, crop=True)\n",
    "        out_profile = src.profile.copy()\n",
    "        out_profile.update({'width': clipped.shape[2],'height': clipped.shape[1], 'transform': transform})\n",
    "\n",
    "        # Save the clipped .tif file\n",
    "        with rasterio.open(os.path.join('data/out/cut', file), 'w', **out_profile) as dst:\n",
    "            dst.write(clipped)\n"
   ]
  },
  {
   "cell_type": "code",
   "execution_count": 24,
   "metadata": {},
   "outputs": [
    {
     "data": {
      "text/plain": [
       "['S1A__IW___D_20210206T052511_VH_gamma0-rtc_db.tif',\n",
       " 'S1B__IW___A_20210203T170010_VH_gamma0-rtc_db.tif',\n",
       " 'S1A__IW___A_20210209T170054_VV_gamma0-rtc_db.tif',\n",
       " 'S1A__IW___A_20210209T170054_VH_gamma0-rtc_db.tif',\n",
       " 'S1B__IW___A_20210203T170010_VV_gamma0-rtc_db.tif',\n",
       " 'S1A__IW___D_20210206T052511_VV_gamma0-rtc_db.tif']"
      ]
     },
     "execution_count": 24,
     "metadata": {},
     "output_type": "execute_result"
    }
   ],
   "source": [
    "tif_files = [file for file in os.listdir('data/out/raw') if file.endswith(\".tif\")]\n",
    "[os.path.join('data/out', file) for file in tif_files]\n",
    "tif_files"
   ]
  },
  {
   "cell_type": "code",
   "execution_count": 20,
   "metadata": {},
   "outputs": [
    {
     "data": {
      "text/plain": [
       "['S1A__IW___D_20210206T052511_VH_gamma0-rtc_db.tif',\n",
       " 'S1B__IW___A_20210203T170010_VH_gamma0-rtc_db.tif',\n",
       " 'S1A__IW___A_20210209T170054_VV_gamma0-rtc_db.tif',\n",
       " 'S1A__IW___A_20210209T170054_VH_gamma0-rtc_db.tif',\n",
       " 'S1B__IW___A_20210203T170010_VV_gamma0-rtc_db.tif',\n",
       " 'S1A__IW___D_20210206T052511_VV_gamma0-rtc_db.tif']"
      ]
     },
     "execution_count": 20,
     "metadata": {},
     "output_type": "execute_result"
    }
   ],
   "source": []
  },
  {
   "cell_type": "code",
   "execution_count": null,
   "metadata": {},
   "outputs": [],
   "source": []
  }
 ],
 "metadata": {
  "kernelspec": {
   "display_name": ".venv",
   "language": "python",
   "name": "python3"
  },
  "language_info": {
   "codemirror_mode": {
    "name": "ipython",
    "version": 3
   },
   "file_extension": ".py",
   "mimetype": "text/x-python",
   "name": "python",
   "nbconvert_exporter": "python",
   "pygments_lexer": "ipython3",
   "version": "3.8.10"
  },
  "orig_nbformat": 4,
  "vscode": {
   "interpreter": {
    "hash": "7dc5b49b89d06391b94bab2d3bdcb3309e09f56610d70066d734e3b5f3df41fc"
   }
  }
 },
 "nbformat": 4,
 "nbformat_minor": 2
}
