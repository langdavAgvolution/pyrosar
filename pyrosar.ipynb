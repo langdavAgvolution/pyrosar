{
 "cells": [
  {
   "cell_type": "code",
   "execution_count": 82,
   "metadata": {},
   "outputs": [],
   "source": [
    "from pyroSAR.snap import geocode\n",
    "import os\n",
    "\n",
    "\n",
    "files = [os.path.join('data/download/', file) for each in os.listdir('data/download/') if each.endswith('.zip')]\n",
    "# satfiles = [os.path.join(root, name)\n",
    "#             for root, dirs, files in os.walk('../sen1ost/data/download/SAR/GRD/2021')\n",
    "#             for name in files\n",
    "#             if name.endswith(\"zip\")]\n",
    "# satfiles = satfiles[0:3]\n",
    "site_shp = 'data/aoi/aoi_tmp/aoi_tmp.shp'\n",
    "\n",
    "for single_file in files:\n",
    "# for single_file in satfiles:\n",
    "    geocode(infile=single_file,\n",
    "        outdir='data/out',\n",
    "        spacing=10,\n",
    "        shapefile=site_shp,\n",
    "        polarizations=['VV', 'VH'],\n",
    "        scaling='dB',\n",
    "        cleanup=True,\n",
    "        tmpdir='data/tmp',\n",
    "        groupsize=8)\n",
    "\n"
   ]
  }
 ],
 "metadata": {
  "kernelspec": {
   "display_name": ".venv",
   "language": "python",
   "name": "python3"
  },
  "language_info": {
   "codemirror_mode": {
    "name": "ipython",
    "version": 3
   },
   "file_extension": ".py",
   "mimetype": "text/x-python",
   "name": "python",
   "nbconvert_exporter": "python",
   "pygments_lexer": "ipython3",
   "version": "3.8.10"
  },
  "orig_nbformat": 4,
  "vscode": {
   "interpreter": {
    "hash": "7dc5b49b89d06391b94bab2d3bdcb3309e09f56610d70066d734e3b5f3df41fc"
   }
  }
 },
 "nbformat": 4,
 "nbformat_minor": 2
}
