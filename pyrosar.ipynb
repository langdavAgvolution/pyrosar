{
 "cells": [
  {
   "cell_type": "code",
   "execution_count": 82,
   "metadata": {},
   "outputs": [],
   "source": [
    "# process downloaded sen files\n",
    "from pyroSAR.snap import geocode\n",
    "import os\n",
    "\n",
    "\n",
    "files = [os.path.join('data/download/', file) for each in os.listdir('data/download/') if each.endswith('.zip')]\n",
    "# satfiles = [os.path.join(root, name)\n",
    "#             for root, dirs, files in os.walk('../sen1ost/data/download/SAR/GRD/2021')\n",
    "#             for name in files\n",
    "#             if name.endswith(\"zip\")]\n",
    "# satfiles = satfiles[0:3]\n",
    "site_shp = 'data/aoi/aoi_tmp/aoi_tmp.shp'\n",
    "\n",
    "for single_file in files:\n",
    "# for single_file in satfiles:\n",
    "    geocode(infile=single_file,\n",
    "        outdir='data/out',\n",
    "        spacing=10,\n",
    "        shapefile=site_shp,\n",
    "        polarizations=['VV', 'VH'],\n",
    "        scaling='dB',\n",
    "        cleanup=True,\n",
    "        tmpdir='data/tmp',\n",
    "        groupsize=8)\n",
    "\n"
   ]
  },
  {
   "cell_type": "code",
   "execution_count": null,
   "metadata": {},
   "outputs": [],
   "source": [
    "# cut to aio size\n",
    "import rasterio\n",
    "import geopandas as gpd\n",
    "from rasterio.mask import mask\n",
    "import os\n",
    "\n",
    "tif_files = [file for file in os.listdir('data/out/raw') if file.endswith(\".tif\")]\n",
    "site_shp = 'data/aoi/flotow.shp'\n",
    "\n",
    "# Open the .tif file\n",
    "for file in tif_files:\n",
    "    with rasterio.open(os.path.join('data/out/raw', file)) as src:\n",
    "        # Open the .shp file using geopandas\n",
    "        shapefile = gpd.read_file(site_shp)\n",
    "\n",
    "        # Clip the .tif file using the .shp file geometry\n",
    "        clipped, transform = mask(src, shapefile.geometry, crop=True)\n",
    "        out_profile = src.profile.copy()\n",
    "        out_profile.update({'width': clipped.shape[2],'height': clipped.shape[1], 'transform': transform})\n",
    "\n",
    "        # Save the clipped .tif file\n",
    "        with rasterio.open(os.path.join('data/out/cut', file), 'w', **out_profile) as dst:\n",
    "            dst.write(clipped)\n"
   ]
  }
 ],
 "metadata": {
  "kernelspec": {
   "display_name": ".venv",
   "language": "python",
   "name": "python3"
  },
  "language_info": {
   "codemirror_mode": {
    "name": "ipython",
    "version": 3
   },
   "file_extension": ".py",
   "mimetype": "text/x-python",
   "name": "python",
   "nbconvert_exporter": "python",
   "pygments_lexer": "ipython3",
   "version": "3.8.10"
  },
  "orig_nbformat": 4,
  "vscode": {
   "interpreter": {
    "hash": "7dc5b49b89d06391b94bab2d3bdcb3309e09f56610d70066d734e3b5f3df41fc"
   }
  }
 },
 "nbformat": 4,
 "nbformat_minor": 2
}
